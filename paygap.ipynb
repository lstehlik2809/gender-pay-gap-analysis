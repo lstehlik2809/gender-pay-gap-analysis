{
 "cells": [
  {
   "cell_type": "markdown",
   "id": "2924aad6",
   "metadata": {},
   "source": [
    "# Firemní audit rozdílu mezi platy mužů a žen  \n",
    "\n",
    "Platová nerovnost mezi muži a ženami není pro firmy jen záležitostí etickou a právní, ale také marketingovou - může mít totiž negativní dopad na jejich \"employer brand\" a atraktivitu coby zaměstnavatele. To znamená, že pokud firmy chtějí přilákat a také si udržet talentované zaměstnance, musí být schopny zajistit, že se u nich s muži a ženami bude v tomto ohledu zacházet stejně. Prvním krokem k tomu je zjistit, jak velký je rozdíl mezi platy mužů a žen ve firmě a do jaké míry ho lze vysvětlit jinými faktory než je samotné pohlaví zaměstnance. V tomto článku demonstruji, jak takovou analýzu provést s pomocí analytického nástroje R a dat, která má většina firem běžně k dispozici. Stručně se zmiňuji rovněž o tom, jaké mohou být případné další kroky a doporučení vyplývající z výsledků provedné analýzy. "
   ]
  },
  {
   "cell_type": "code",
   "execution_count": null,
   "id": "b28fb3e2",
   "metadata": {
    "lines_to_next_cell": 0,
    "message": false,
    "tags": [
     "remove_input",
     "remove_cell"
    ],
    "warning": false
   },
   "outputs": [],
   "source": [
    "\n",
    "# uploading libraries\n",
    "library(tidyverse)\n",
    "library(ggthemes)\n",
    "library(plotly)\n",
    "library(RColorBrewer)\n",
    "library(DT)\n",
    "library(GGally)\n",
    "library(skimr)\n",
    "library(ggstatsplot)\n",
    "library(ggpubr)\n",
    "\n",
    "if (!require(remotes)) {\n",
    "    install.packages(\"remotes\")\n",
    "}\n",
    "remotes::install_github('jorvlan/raincloudplots')\n",
    "\n",
    "library(raincloudplots)\n",
    "library(PupillometryR)\n",
    "\n",
    "library(brms)\n",
    "library(tidybayes)\n",
    "\n",
    "Sys.setlocale(\"LC_CTYPE\", \"czech\")\n",
    "\n"
   ]
  },
  {
   "cell_type": "markdown",
   "id": "65c4b614",
   "metadata": {},
   "source": [
    "## Co to je *gender pay gap* a jak ho měřit?  \n",
    "\n",
    "*Gender pay gap* (GPG), v překladu genderová příjmová nerovnost nebo příjmová propast mezi muži a ženami, označuje **typický rozdíl mezi platovým ohodnocením pracujících žen a mužů**. Obvykle je GPG vyjadřována procenty, poměrem typické hrubé hodinové (či roční) mzdy ženy k typické mzdě muže nebo poměrem rozdílu mezi typickou mzdou mužů a žen vůči typické mzdě mužů.  \n",
    "\n",
    "Bez ohledu na způsob měření GPG, je dobře doloženým faktem, že ženy jsou obecně hůře placeny než muži, jakkoli [se tento rozdíl postupem času zmenšuje](http://www.econ.jku.at/papers/2003/wp0311.pdf). Rozdíly v platech se přitom mohou v jednotlivých zemích poměrně dost lišit. Názorně to ilustruje níže uvedený graf, který ukazuje vývoj (neadjustované) GPG (definované jako poměr rozdílu mediánové mzdy zaměstnaných mužů a žen a mediánové mzdy zaměstnaných mužů) v průběhu několika minulých let v zemích [OECD](https://data.oecd.org/earnwage/gender-wage-gap.htm)."
   ]
  },
  {
   "cell_type": "code",
   "execution_count": null,
   "id": "9b2578c1",
   "metadata": {
    "message": false,
    "tags": [
     "remove_input"
    ],
    "warning": false
   },
   "outputs": [],
   "source": [
    "\n",
    "# uploading data\n",
    "gpgoecd <- readr::read_csv(\"./DP_LIVE_29012021212234147.csv\")\n",
    "\n",
    "# creating color palette\n",
    "# list of R color Brewer's palttes: https://www.r-graph-gallery.com/38-rcolorbrewers-palettes.html\n",
    "nbCols <- length(unique(gpgoecd$LOCATION))\n",
    "myColors <- colorRampPalette(brewer.pal(8, \"Set1\"))(nbCols)\n",
    "\n",
    "# creating a graph\n",
    "g <- gpgoecd %>%\n",
    "  ggplot2::ggplot(aes(x = forcats::fct_reorder(LOCATION, Value), y = Value, fill = LOCATION,\n",
    "                      text = paste('Země: ', LOCATION,\n",
    "                                 '</br></br>GPG: ', round(Value))))+\n",
    "  ggplot2::geom_col() +\n",
    "  ggplot2::facet_wrap(~ TIME, nrow = 4) +\n",
    "  ggplot2::labs(x = \"\",\n",
    "                y = \"GPG\",\n",
    "                title = \"Genderová příjmová nerovnost v zemích OECD v letech 2016-2019\") +\n",
    "  ggthemes::theme_few() +\n",
    "  ggplot2::scale_fill_manual(values = myColors) +\n",
    "  ggplot2::theme(legend.position = \"\",\n",
    "                 legend.title = element_blank(),\n",
    "                 axis.text.x = element_text(angle = 90, vjust = 0.5, hjust=1))\n",
    "\n",
    "\n",
    "# making the graph interactive\n",
    "plotly::ggplotly(\n",
    "  g, \n",
    "  width = 800,\n",
    "  height = 700,\n",
    "  tooltip = \"text\"\n",
    ")\n"
   ]
  },
  {
   "cell_type": "markdown",
   "id": "50fa9555",
   "metadata": {},
   "source": [
    "Důvodů pro nevyváženost příjmů žen a mužů pravděpodobně existuje větší množství. Mezi nejčastěji uváděné důvody patří:  \n",
    "\n",
    "* **Diskriminace na pracovišti**. Stejné práce je odměňována rozdílně čistě na základě pohlaví pracovníka.  \n",
    "* **Genderové stereotypy**. Předsudky ohledně výkonnosti, schopností a vlastností žen mají za následek oslabení jejich pozic a vytváření tzv. „skleněného stropu“, tj. neviditelné bariéry, na kterou ženy naráží při snaze o kariérní postup na lépe placené pozice.  \n",
    "* **Segregace trhu**. Odvětví, v nichž je tradičně zaměstnáváno více žen než mužů jako je zdravotnictví, školství nebo veřejná správa, jsou společností vnímána jako méně prestižní, a tedy i hůře odměňována.  \n",
    "* **Rodinný život**. Ženy většinou nesou větší část zátěže spojené s rodinným životem (např. při odchodu na mateřskou dovolenou, při péči o nemocné děti či jiné členy domácnosti), což jim významně stěžuje jejich snahu o kariérní růst.\n",
    "\n",
    "V situaci, kdy při reportování GPG nerozlišujeme mezi různými důvody pro platovou nerovnost, hovoříme o tzv. **neadjustované GPG**. Pro potřeby firemního auditu platové nerovnosti je však důležité zjistit rovněž tzv. **adjustovanou GPG**, která se snaží vyjádřit míru platové nerovnosti, která je způsobena čistě pohlavím zaměstnance. Zatímco adjustovaná GPG umožňuje firmě identifikovat možnou diskriminaci na pracovišti, neadjustovaná GPG (při neprokázané adjustované GPG) může poukazovat na existenci problémů jako jsou genderové stereotypy či nedostatečná podpora žen při snaze skloubit svůj osobní a profesní život. Pro firmy je tak užitečné sledovat oba ukazatele.     "
   ]
  },
  {
   "cell_type": "markdown",
   "id": "181e48b7",
   "metadata": {},
   "source": [
    "## Proč se zabývat platovou nerovností ve Vaší firmě?\n",
    "\n",
    "I kdybychom odhlédli od etických či právních aspektů platové nerovnosti mezi muži a ženami, je ve velice pragmatickém zájmu každé firmy, aby se tento druh nespravedlnosti v jejím systému odměňování nevyskytoval. V době sociálních sítí a platforem na hodnocení firem jejich současnými i bývalými zaměstnanci (za všechny zmiňme např. [Glassdoor](https://www.glassdoor.com/Reviews/index.htm) nebo český [Atmoskop](https://www.atmoskop.cz/)) se totiž informace o nerovném přístupu může velice snadno rozšířit mezi potenciální i stávající zaměstnance, kteří ji mohou zohlednit při svém rozhodování, zda se v dané firmě ucházet o práci, resp. zda v ní i nadále zůstat.  \n",
    "\n",
    "Tuto skutečnost dokládají např. výsledky [průzkumu provedeného společností Glassdoor](https://about-content.glassdoor.com//app/uploads/sites/2/2019/03/Gender-Pay-Gap-Fact-Sheet-2019.pdf), podle kterého cca 67 % (U.S.) zaměstnanců by se neucházelo o práci tam, kde by si myslelo, že muži a ženy mají nerovné platové podmínky."
   ]
  },
  {
   "cell_type": "markdown",
   "id": "c155cb69",
   "metadata": {},
   "source": [
    "## Audit platové nerovnosti mezi muži a ženami \n",
    "\n",
    "Stejně jako při řešení jakéhokoli jiného problému, i v tomto případě platí, že **v první řadě je především potřeba ověřit, že nějaký problém k řešení vůbec existuje**. K tomu poslouží **firemní audit platové nerovnosti mezi muži a ženami**. Ten prostřednictvím analýzy platových, demografických a organizačních dat ověří, zda máme nějaké doklady pro to, že v dané společnosti existují platové rozdíly mezi zaměstnanci spojené s jejich pohlavím. Teprve na základě výsledků takové analýzy je možné se začít poohlížet po možných opatřeních v oblastech náboru, odměňování a/nebo povyšování, která by mohla pomoct nespravedlivé platové nerovnosti odstranit nebo alespoň zmírnit.  \n",
    "\n",
    "Níže uvedený příklad takového auditu vychází z článku [How to Analyze Your Gender Pay Gap: An Employer's Guide](https://www.glassdoor.com/research/app/uploads/sites/2/2019/03/GD_Report_AnalyzingGenderPayGap_v2-2.pdf) od [Andrew Chamberlaina, Ph.D.](https://www.linkedin.com/in/andrewdavidchamberlain/), hlavního ekonoma a vedoucího výzkumu ve společnosti Glassdoor."
   ]
  },
  {
   "cell_type": "markdown",
   "id": "5626e2ce",
   "metadata": {},
   "source": [
    "## Plán analýzy\n",
    "\n",
    "Analýzu platové nerovnosti mezi muži a ženami provedeme v následujících několika krocích:  \n",
    "\n",
    "* Načteme si data, která obsahují informace o platech vzorku zaměstnanců, jejich pohlaví, demografických a organizačních charakteristikách, na kterých budeme testovat naše hypotézy. Za tímto účelem použijeme [ilustrační data poskytnutá společností Glassdoor](https://glassdoor.app.box.com/v/gender-pay-data). \n",
    "* V případě potřeby si upravíme data tak, aby lépe vyhovovala potřebám naší analýzy.\n",
    "* Provedeme explorační analýzu, která nám poskytne základní představu o našich datech. \n",
    "* Spočítáme si neadjustovanou GPG.  \n",
    "* S pomocí hierarchické regresní analýzy vytvoříme statistický model GPG, který nám umožní lépe rozlišit \"vliv\" různých faktorů, včetně jejich interakcí, na pozorované rozdíly v platech mužů a žen.\n",
    "* Ověříme, zda samotné pohlaví zaměstance - při zohlednění \"vlivu\" ostatních faktorů, ke kterým máme k dispozici nějaká data - hraje nějakou významnější roli ve výši platu, který zaměstnanec dostává.\n",
    "* Ověříme, zda pohlaví zaměstnance neinteraguje s některými dalšími faktory při predikci výše jejich mzdy."
   ]
  },
  {
   "cell_type": "markdown",
   "id": "52432400",
   "metadata": {},
   "source": [
    "## Dostupná data"
   ]
  },
  {
   "cell_type": "code",
   "execution_count": null,
   "id": "4b83f1d0",
   "metadata": {
    "message": false,
    "tags": [
     "remove_input"
    ],
    "warning": false
   },
   "outputs": [],
   "source": [
    "\n",
    "data <- readr::read_csv(\"./GenderPay_Data.csv\")\n"
   ]
  },
  {
   "cell_type": "markdown",
   "id": "7d91535d",
   "metadata": {},
   "source": [
    "K dispozici máme následující data ke vzorku `r nrow(data)` zaměstnanců:  \n",
    "\n",
    "* Typ pozice, na které zaměstnanec pracuje (*jobTitle*)\n",
    "* Pohlaví zaměstnance (*gender*)\n",
    "* Věk zaměstnance (*age*)\n",
    "* Hodnocení pracovního výkonu zaměstnance (*perfEval*)\n",
    "* Úroveň vzdělání zaměstnance (*edu*)\n",
    "* Oddělení, ve kterém zaměstnanec pracuje (*dpt*)\n",
    "* Míra seniority zaměstnance (*seniority*)\n",
    "* Základní mzda zaměstnance (*basePay*)\n",
    "* Bonusová složka platu zaměstnance (*bonus*)\n",
    "\n"
   ]
  },
  {
   "cell_type": "code",
   "execution_count": null,
   "id": "f988d7c7",
   "metadata": {
    "lines_to_next_cell": 2,
    "message": false,
    "tags": [
     "remove_input"
    ],
    "warning": false
   },
   "outputs": [],
   "source": [
    "\n",
    "DT::datatable(\n",
    "  data,\n",
    "  class = 'cell-border stripe', \n",
    "  filter = 'top',\n",
    "  extensions = 'Buttons',\n",
    "  fillContainer = FALSE,\n",
    "  options = list(\n",
    "    pageLength = 5, \n",
    "    autoWidth = TRUE,\n",
    "    dom = 'Bfrtip',\n",
    "    buttons = c('copy'), \n",
    "    scrollX = TRUE, \n",
    "    selection=\"multiple\"\n",
    "    )\n",
    "  )\n"
   ]
  },
  {
   "cell_type": "markdown",
   "id": "9178ae4b",
   "metadata": {},
   "source": [
    "## Příprava dat k analýze\n",
    "\n",
    "Ze zběžné kontroly povahy našich dat je patrné, že ne každá z proměnných je v našem datasetu reprezentována pomocí adekvátního datového typu. Před samotnou analýzou si tedy budeme muset naše data ještě trochu upravit. "
   ]
  },
  {
   "cell_type": "code",
   "execution_count": null,
   "id": "be608593",
   "metadata": {
    "message": false,
    "tags": [
     "remove_input"
    ],
    "warning": false
   },
   "outputs": [],
   "source": [
    "\n",
    "dplyr::glimpse(data)\n"
   ]
  },
  {
   "cell_type": "markdown",
   "id": "42c9cb72",
   "metadata": {},
   "source": [
    "Konkrétně budeme chtít upravit všechny textové proměnné (pracovní pozice, pohlaví, úroveň vzdělání a pracovní oddělení) a dvě numerické proměnné (hodnocení pracovního výkonu a míru seniority) na faktorové proměnné. Ke třem z těchto nově vytvořených faktorových proměnných (úroveň vzdělání, hodnocení pracovního výkonu a míra senirotity) je potom potřeba přidat informaci o správném pořadí jejich jednotlivých kategorií, protože reprezentují ordinální proměnné, u kterých lze smysluplně hovořit o relativním pořadí kategorií ve smyslu vyšší/nižší, resp. větší/menší. Takto upravená data již odpovídají typu informací, které reprezentují, a můžeme je tedy začít používat pro analýzu našeho problému.    "
   ]
  },
  {
   "cell_type": "code",
   "execution_count": null,
   "id": "beb6b441",
   "metadata": {
    "echo": true,
    "lines_to_next_cell": 2,
    "message": false,
    "warning": false
   },
   "outputs": [],
   "source": [
    "\n",
    "mydata <- data %>%\n",
    "  dplyr::mutate_if(is.character, as.factor) %>%\n",
    "  dplyr::mutate(edu = factor(edu, ordered = TRUE, levels = c(\"High School\", \"College\", \"Masters\", \"PhD\")),\n",
    "                perfEval = factor(as.character(perfEval), ordered = TRUE, levels = c(\"1\",\"2\",\"3\",\"4\",\"5\")),\n",
    "                seniority = factor(as.character(seniority), ordered = TRUE, levels = c(\"1\",\"2\",\"3\",\"4\",\"5\")))\n"
   ]
  },
  {
   "cell_type": "markdown",
   "id": "59949c21",
   "metadata": {},
   "source": [
    "## Explorační analýza\n",
    "\n",
    "V níže uvedených tabulkách jsou uvedeny základní popisné statistiky k jednotlivým proměnným. Můžeme z nich vyčíst např. to, že našich 1000 zaměstnanců je relativně rovnoměně rozdělených do jednotlivých kategorií z hlediska pracovní pozice, pohlaví, hodnocení pracovního výkonu, úrovně vzdělání, oddělení, ve kterém pracují, i míry jejich seniority. Dále se z nich můžeme dozvědět, že prostředních 50 % zaměstnanců je ve věku mezi 29 a 54 lety, jejich roční základní mzda se pohybuje od 76 850 do 111 558 USD a jejich bonusy za rok činí 4 849 až 8 026 USD.   "
   ]
  },
  {
   "cell_type": "code",
   "execution_count": null,
   "id": "7bb8b849",
   "metadata": {
    "tags": [
     "remove_input"
    ]
   },
   "outputs": [],
   "source": [
    "\n",
    "skimr::skim(mydata)\n"
   ]
  },
  {
   "cell_type": "markdown",
   "id": "77624c5d",
   "metadata": {},
   "source": [
    "<br>\n",
    "Z hlediska námi analyzovaného problému jsou pro nás ale důležitější vztahy mezi jednotlivými proměnnými, zejména mezi pohlavím a ostatními proměnnými a jejich různými kombinacemi. Rychlý přehled o některých těchto vztazích nám může poskytnout níže uvedený graf, který zobrazuje souvislosti mezi jednotlivými dvojicemi proměnných a s pomocí barevného kódování navíc nese informaci o tom, jak se tyto souvislosti liší mezi pohlavími. V grafu můžeme např. vidět, že se v případě některých pracovních pozic významně liší relativní zastoupení mužů a žen. V menší míře se zdá tento rozdíl platit i v případě úrovně vzdělání. Určitý rozdíl mezi muži a ženami se zdá existovat rovněž ve výši jejich základní mzdy (narozdíl od bonusové složky, která se zdá být u mužů a žen obdobně vysoká).        "
   ]
  },
  {
   "cell_type": "code",
   "execution_count": null,
   "id": "97f19a52",
   "metadata": {
    "fig.height": 18,
    "fig.width": 18,
    "message": false,
    "tags": [
     "remove_input"
    ],
    "warning": false
   },
   "outputs": [],
   "source": [
    "options(repr.plot.width = 18, repr.plot.height = 18)\n",
    "\n",
    "GGally::ggpairs(mydata, aes(color = gender, alpha = 0.4)) +\n",
    "  ggplot2::theme(\n",
    "      strip.text.x = element_text(\n",
    "        size = 22),\n",
    "      strip.text.y = element_text(\n",
    "        size = 22)\n",
    "      ) +\n",
    "  ggplot2::scale_fill_brewer(palette=\"Dark2\") +\n",
    "  ggplot2:: scale_color_brewer(palette=\"Dark2\")\n"
   ]
  },
  {
   "cell_type": "markdown",
   "id": "a618f132",
   "metadata": {},
   "source": [
    "Vizuální dojem o rozdílné výši základní mzdy u mužů a žen potvrzuje i detailnější analýza tohoto rozdílu. Ta ukazuje, že v našem vzorku mediánová mzda žen činí `r format(round(median(mydata[mydata['gender'] == 'Female', 'basePay'] %>% pull()),2), scientific=FALSE)` USD a mediánová mzda mužů `r format(round(median(mydata[mydata['gender'] == 'Male', 'basePay'] %>% pull()),2), scientific=FALSE)` USD. To odpovídá rozdílu `r round((median(mydata[mydata['gender'] == 'Male', 'basePay'] %>% pull()) - median(mydata[mydata['gender'] == 'Female', 'basePay'] %>% pull())), 1)` USD, resp. neadjustované GPG (definované jako poměr rozdílu mediánové mzdy mužů a žen a mediánové mzdy mužů) `r round((median(mydata[mydata['gender'] == 'Male', 'basePay'] %>% pull()) - median(mydata[mydata['gender'] == 'Female', 'basePay'] %>% pull())) / median(mydata[mydata['gender'] == 'Male', 'basePay'] %>% pull()) * 100, 1)` %. Míra platové nerovnosti se tak v námi sledované firmě zdá být spíše nižší, srovnatelná s celkovou hodnotou tohoto ukazatele v zemích jako je např. Švédsko nebo Nový Zéland (viz graf z úvodu tohoto článku).\n",
    "\n",
    "Pokud bychom chtěli zohlednit míru naší nejistoty při odhadu velikosti rozdílu mezi typickým platem mužů a žen, která je daná tím, že pracujeme pouze se vzorkem zaměstnanců a nikoli s celou firmou, měli bychom sáhnout po inferenční statistice. Při použití bayesovského ekvivalentu t-testu pro dva nezávislé výběry získáme takto informaci o posteriorní distribuci velikosti tohoto rozdílu. Na grafu níže můžeme vidět, že 95% interval kredibility se nachází v rozmezí od 5511 do 11615 USD, s mediánovou hodnotou 8392 USD. Z grafu také můžeme vyčíst, že dostupná data mluví silně v neprospěch nulové hypotézy o neexistenci rozdílu mezi průměrným platem mužů a žen - viz velmi nízká hodnota logaritmu [Bayesova faktoru](https://en.wikipedia.org/wiki/Bayes_factor) ve prospěch nulové hypotézu BF~01~.      \n",
    "\n"
   ]
  },
  {
   "cell_type": "code",
   "execution_count": null,
   "id": "93c82919",
   "metadata": {
    "fig.height": 5,
    "fig.width": 7,
    "message": false,
    "tags": [
     "remove_input"
    ],
    "warning": false
   },
   "outputs": [],
   "source": [
    "options(repr.plot.width = 12, repr.plot.height = 8)\n",
    "\n",
    "set.seed(123)\n",
    "ggstatsplot::ggbetweenstats(\n",
    "  data = mydata,\n",
    "  x = gender,\n",
    "  y = basePay,\n",
    "  type = \"bayes\",\n",
    "  title = \"Rozdíl v základní mzdě mezi muži a ženami\",\n",
    "  palette = \"Dark2\"\n",
    ") +\n",
    "  ggplot2::scale_y_continuous(\n",
    "    labels = scales::number_format(\n",
    "      accuracy = 1,\n",
    "      scale = 1/1000,\n",
    "      suffix = \"k\",\n",
    "      prefix = \"$\",\n",
    "      big.mark = \",\"),\n",
    "    limits = c(0,200000)\n",
    "    ) +\n",
    "  ggplot2::labs(x = \"\")\n"
   ]
  },
  {
   "cell_type": "markdown",
   "id": "36393b08",
   "metadata": {},
   "source": [
    "**Samotný fakt rozdílné výše základní mzdy u mužů a žen ale ještě nemusí automaticky znamenat, že by se za ním skrývala diskriminace žen**. Pozorovaný rozdíl může být totiž např. způsobený tím, že ženy zaměstnané v námi sledované firmě mají typicky nižší vzdělání než ve stejné firmě zaměstnaní muži. A vzhledem k tomu, že výše vzdělání (z hlediska \"meritokratické spravedlnosti\" zcela neproblematicky) pozitivně koreluje s výší platu, projeví se tato souvislost v nižší typické mzdě žen (ponechme nyní stranou otázku, v jaké míře mají ženy obecně přístup k vyššímu vzdělání ve společnosti, kde daná firma působí). Tuto hypotézu se zdají podporovat i dva níže uvedené grafy, které vizualizují vztah mezi úrovní vzdělání zaměstnance a výší jeho základní mzdy, resp. souvislost mezi pohlavím zaměstnance a úrovní jeho vzdělání.\n"
   ]
  },
  {
   "cell_type": "code",
   "execution_count": null,
   "id": "59f7935f",
   "metadata": {
    "fig.height": 5,
    "fig.width": 7,
    "lines_to_next_cell": 2,
    "message": false,
    "tags": [
     "remove_input"
    ],
    "warning": false
   },
   "outputs": [],
   "source": [
    "options(repr.plot.width = 12, repr.plot.height = 8)\n",
    "\n",
    "mydata %>%\n",
    "  ggplot2::ggplot(aes(x = edu, y = basePay, fill = edu)) +\n",
    "  PupillometryR::geom_flat_violin(position = position_nudge(x = .2, y = 0), alpha = .8) +\n",
    "  ggplot2::geom_point(aes(y = basePay, color = edu), position = position_jitter(width = .15), size = .5, alpha = 0.8) +\n",
    "  ggplot2::geom_boxplot(width = .1, guides = FALSE, outlier.shape = NA, alpha = 0.5) +\n",
    "  ggplot2::expand_limits(x = 5.25) +\n",
    "  ggplot2::guides(fill = FALSE) +\n",
    "  ggplot2::guides(color = FALSE) +\n",
    "  ggplot2::scale_color_brewer(palette = \"Blues\") +\n",
    "  ggplot2::scale_fill_brewer(palette = \"Blues\") +\n",
    "  ggplot2::scale_y_continuous(\n",
    "    labels = scales::number_format(\n",
    "      accuracy = 1,\n",
    "      scale = 1/1000,\n",
    "      suffix = \"k\",\n",
    "      prefix = \"$\",\n",
    "      ),\n",
    "    limits = c(0,200000)\n",
    "    ) +\n",
    "  ggplot2::theme_minimal() +\n",
    "  ggplot2::theme(panel.border = element_blank()) +\n",
    "  ggplot2::labs(title = \"Vztah mezi úrovní vzdělání a výší základní mzdy\",\n",
    "       x = \"\")\n"
   ]
  },
  {
   "cell_type": "code",
   "execution_count": null,
   "id": "b2816b36",
   "metadata": {
    "fig.height": 5,
    "fig.width": 7,
    "message": false,
    "tags": [
     "remove_input"
    ],
    "warning": false
   },
   "outputs": [],
   "source": [
    "options(repr.plot.width = 12, repr.plot.height = 8)\n",
    "\n",
    "mydata %>%\n",
    "  ggplot2::ggplot(aes(x = edu, fill = gender)) +\n",
    "  ggplot2::geom_bar(position = \"fill\") +\n",
    "  ggplot2::scale_fill_hue() +\n",
    "  ggplot2::theme_minimal() +\n",
    "  ggplot2::labs(title = \"Míra zastoupení můžů a žen v jednotlivých kategoriích úrovně vzdělání\",\n",
    "                x = \"\",\n",
    "                y = \"\",\n",
    "                fill = \"\") +\n",
    "  ggplot2::scale_fill_brewer(palette=\"Dark2\") +\n",
    "  ggplot2:: scale_color_brewer(palette=\"Dark2\") +\n",
    "  ggplot2::scale_y_continuous(labels = scales::percent_format()) +\n",
    "  ggplot2::theme(legend.position = \"top\")\n",
    "\n"
   ]
  },
  {
   "cell_type": "markdown",
   "id": "9e17551e",
   "metadata": {},
   "source": [
    "Podobných kombinovaných souvislostí může v našich datech (a v realitě, kterou reprezentují) existovat větší množství. Pokud by čtenář chtěl vztahy mezi různými kombinacemi proměnných prozkoumat sám a detailněji, může za tímto účelem využít [tuto interaktivní aplikaci](https://peopleanalyticsblog.shinyapps.io/gender-pay-gap/?_ga=2.145829618.756830262.1613246735-1591991673.1613246735), kde jsou nahraná naše data a kde lze snadno různým způsobem vizualizovat zadané kombinace proměnných. Viz níže uvedená ukázka využití této aplikace při vizualizaci vztahu mezi výší platu, pohlavím a pracovní pozicí, včetně počtu zaměstnanců v jednotlivých kombinovaných kategoriích. Z tohoto konkrétního grafu je dobře patrné, že ženy jsou ve srovnání s muži disproporčně méně zastoupeny na dvou nadprůměrně odměňovaných pozicích *Manager* a *Software Engineer* a naopak disproporčně více jsou zastoupeny na podprůměrně platově ohodnocené pozici *Marketing Associate*.  \n",
    "\n",
    "[![Interactive Exploration of GPG Data](./eda_app.png \"Interactive Exploration of GPG Data\"){width=100%}](https://peopleanalyticsblog.shinyapps.io/gender-pay-gap/?_ga=2.145829618.756830262.1613246735-1591991673.1613246735)\n",
    "\n",
    "<br>\n",
    "Důležitou kategorií vztahů mezi proměnnými, kterou bychom měli prozkoumat, pokud se chceme co nejblíže dostat k příčinám pozorovaných nerovností v platech mužů a žen a dobře zacílit případné intervence, jsou tzv. **interakce**. Ty popisují situace, kdy vztah mezi dvěma proměnnými závisí na hodnotě nějaké třetí proměnné. Nás zde bude konkrétně zajímat interakce mezi naší hlavní nezávislou proměnnou (prediktorem), tj. pohlavím zaměstnance, a dalšími nezávislými proměnnými (např. věkem, úrovní vzdělání, hodnocením pracovního výkonu, pracovní pozicí nebo oddělením) ve vztahu k naší závislé proměnné (kritériu), tedy základní mzdě.  \n",
    "\n",
    "Příkladem vizualizace tohoto druhu vztahu mezi proměnnými je níže uvedený graf, ze kterého můžeme vyčíst, že ženy mají sice v průměru nižší základní mzdu než muži napříč celým věkovým spektrem (viz níže položená regresní přímka pro skupinu žen), ale fakt, že zobrazené regresní přímky jsou rovnoběžné, svědčí pro to, že v rámci obou skupin platí stejný typ vztahu mezi věkem a výší platu, a tedy že mezi pohlavím a věkem ve vztahu k výši mzdy nedochází k žádné interakci. Pokud by se existence takové interakce potvrdila i při zohlednění dalších relevantních faktorů, mělo by to pro nás být podnětem k další exploraci toho, co se pozorovaným rozdílem skrývá.\n"
   ]
  },
  {
   "cell_type": "code",
   "execution_count": null,
   "id": "77e4f228",
   "metadata": {
    "fig.height": 5,
    "fig.width": 7,
    "lines_to_next_cell": 2,
    "message": false,
    "tags": [
     "remove_input"
    ],
    "warning": false
   },
   "outputs": [],
   "source": [
    "options(repr.plot.width = 12, repr.plot.height = 8)\n",
    "\n",
    "mydata %>%\n",
    "  ggplot2::ggplot(aes(x = age, y = basePay, fill = gender, colour = gender, group = gender)) +\n",
    "  ggplot2::geom_point(size = 1L, position = \"jitter\", alpha = 0.5) +\n",
    "  ggplot2::geom_smooth(span = 1L, method = \"lm\") +\n",
    "  ggplot2::scale_fill_brewer(palette = \"Dark2\") +\n",
    "  ggplot2::scale_color_brewer(palette = \"Dark2\") +\n",
    "  ggplot2::theme_minimal() +\n",
    "  ggplot2::labs(title = \"Vztah mezi věkem zaměstnanců a výší jejich základní mzdy\",\n",
    "                fill = \"\",\n",
    "                color = \"\") +\n",
    "  ggplot2::scale_y_continuous(\n",
    "    labels = scales::number_format(\n",
    "      accuracy = 1,\n",
    "      scale = 1/1000,\n",
    "      suffix = \"k\",\n",
    "      prefix = \"$\",\n",
    "      big.mark = \",\"),\n",
    "    limits = c(0,200000)\n",
    "    ) +\n",
    "  ggplot2::theme(legend.position = \"top\")\n"
   ]
  },
  {
   "cell_type": "markdown",
   "id": "6d9431f3",
   "metadata": {},
   "source": [
    "## Statistický model platové nerovnosti\n",
    "\n",
    "Abychom dokázali izolovat vliv samotného pohlaví zaměstnanců na výši platu a zohlednit přitom zároveň vliv všech ostatních relevantních faktorů, včetně některých jejich interakcí, musíme sáhnout po komplexnějším nástroji než je popisná statistika. A tímto nástrojem je **statistické modelování**. \n",
    "\n",
    "Statistické modelování, podobně jako jakékoli jiné modelování ve vědě, ale i v běžném životě, není ničím jiným než snahou **vytvořit menší a zjednodušený model našeho světa, který však jeho chování odráží dostatečně věrně na to, abychom s jeho pomocí mohli činit úsudky a předpovědi o skutečném světě a zakládat na něm svá rozhodnutí** (k tomuto tématu viz srozumitelně napsaný popularizující článek [Modeluji, tedy jsem](https://www.bisop.eu/josef-slerka-modeluji-tedy-jsem-lidove-noviny/) od [Josefa Šlerky](https://www.linkedin.com/in/josefslerka/)). Statistické modelování se potom od jiných druhů modelování liší v tom, že se ve větší míře opírá o nástroje matematické statistiky a teorie pravděpodobnosti.\n",
    "\n",
    "Překvapivě mnoho jevů našeho světa se dá úspěšně modelovat a předpovídat pomocí relativně jednoduchých statistických modelů **zobecněné lineární regrese** (*Generalized Linear Models*, GLM). Ty předpokládají, že závislá proměnná, transformovaná prostřednictvím tzv. **linkovací funkce** (*link function*), je funkcí lineární kombinace nezávislých proměnných. Nejznámější z této rodiny statistických modelů je **klasický lineární model**, který předpokládá normální rozdělení závislé proměnné, resp. reziduí (chyb) okolo predikované/ očekávané střední hodnoty závislé proměnné (viz ilustrativní obrázek níže). \n",
    "\n",
    "<img src=\"./glm.png\">  \n",
    "\n",
    "Vzhledem k tomu, že námi modelovaná proměnná základní mzdy se zdá mít normální, nebo téměř normální rozdělení (viz některé grafy v části věnované explorační analýze), můžeme i my sáhnout po tomto statistickém modelu. Jako nezávislé proměnné v našem modelu použijeme všechny nám dostupné prediktory, spolu s interakcemi mezi proměnnou pohlaví na straně jedné a proměnnými úrovně vzdělání, seniority, věku a hodnocení pracovního výkonu na straně druhé. Protože zaměstnanci tvoří přirozené shluky v rámci oddělení, napříč kterými se liší výše mzdy a také by se mohla lišit povaha vztahu mezi pohlavím zaměstnance a výší jeho mzdy, použijeme **hierarchickou/víceúrovňovou variantu modelu lineární regrese**, která umožňuje, aby hodnoty vybraných parametrů modelu variovaly v závilosti na příslušnosti zaměstnanců do konkrétního oddělení. \n",
    "\n",
    "K odhadu hodnot parametrů našeho modelu použijeme **inferenční rámec bayesovské statistiky**, která ve srovnání s frekventistickou statistikou nabízí bohatší a intuitivně snáze uchopitelné výstupy. Pro apriorní distribuci parametrů modelu použijeme defaultní, široké a neinformativní hodnoty, takže výsledky analýzy budou nominálně podobné těm, které bychom získali při použití tradičnější frekventistické inferenční statistiky.     \n"
   ]
  },
  {
   "cell_type": "code",
   "execution_count": null,
   "id": "2266173f",
   "metadata": {
    "echo": true,
    "lines_to_next_cell": 2,
    "message": false,
    "warning": false
   },
   "outputs": [],
   "source": [
    "\n",
    "# defining and running the model\n",
    "\n",
    "model <- brms::brm(\n",
    "  basePay | trunc(lb = 0) \n",
    "  ~ 1 \n",
    "  + jobTitle \n",
    "  + gender \n",
    "  + age \n",
    "  + perfEval \n",
    "  + edu \n",
    "  + seniority \n",
    "  + gender:edu \n",
    "  + gender:seniority \n",
    "  + gender:age \n",
    "  + gender:perfEval \n",
    "  + (1 + gender | dept),  \n",
    "  data = mydata %>% dplyr::mutate_if(is.factor, as.character),\n",
    "  family = gaussian(link = \"identity\"),\n",
    "  iter = 3000,\n",
    "  chains = 3,\n",
    "  cores = 6,\n",
    "  warmup = 1000,\n",
    "  seed = 2809,\n",
    "  control = list(\n",
    "    adapt_delta = 0.99, \n",
    "    max_treedepth = 20\n",
    "    )\n",
    ")\n"
   ]
  },
  {
   "cell_type": "markdown",
   "id": "2445e8f3",
   "metadata": {},
   "source": [
    "## Výsledky analýzy  \n",
    "\n",
    "Dříve než přistoupíme k interpretaci výsledků analýzy je dobré si ověřit, že náš statistický model dokáže dostatečně věrně napodobit či simulovat data reprezentující firemní realitu, na jejíž vlastnosti chceme s pomocí tohoto modelu usuzovat. Za tímto účelem můžeme použít nástroj posteriorní prediktivní kontroly (*posterior predictive check*), který ověřuje, jak moc dobře námi zvolený a odhadnutý model predikuje pozorovaná data na základě vzorku posteriorních hodnot jeho parametrů. Z níže uvedeného grafu je dobře patrné, že náš model si z tohoto hlediska nevede vůbec špatně.  \n",
    "\n",
    "Po této kontrole (a také po ověření dalších [technických náležitostí](https://jrnold.github.io/bayesian_notes/mcmc-diagnostics.html), jako je např. konvergence [MCMC](https://en.wikipedia.org/wiki/Markov_chain_Monte_Carlo) řetězců, které umožňují odhadnout posteriorneí distribuci parametrů i komplexnějších statistických modelů jako je ten náš) můžeme začít využívat parametry našeho modelu k usuzování na pravděpodobné vlastnosti námi studované firemní reality.         \n"
   ]
  },
  {
   "cell_type": "code",
   "execution_count": null,
   "id": "78903d32",
   "metadata": {
    "lines_to_next_cell": 2,
    "message": false,
    "tags": [
     "remove_input"
    ],
    "warning": false
   },
   "outputs": [],
   "source": [
    "\n",
    "# investigating the model's fit\n",
    "\n",
    "# specifying the number of samples\n",
    "nsamples = 100\n",
    "\n",
    "options(repr.plot.width = 12, repr.plot.height = 8)\n",
    "brms::pp_check(\n",
    "  model, \n",
    "  nsamples = nsamples\n",
    "  ) + \n",
    "  ggplot2::labs(\n",
    "    title = stringr::str_glue(\"Posteriorní prediktivní kontrola modelu za použití vzorku o velikoti n = {nsamples}\")\n",
    "    )\n"
   ]
  },
  {
   "cell_type": "markdown",
   "id": "21e05af7",
   "metadata": {},
   "source": [
    "Níže je uveden souhrn informací o našem odhadnutém modelu. Primárně nás zajímá hodnota parametru pohlaví (*genderMale*) v sekci věnované efektům na úrovni celé populace (*Population-Level Effects*). 95% interval kredibility (*Credible Interval*), který udává kam v posteriorním rozdělení spadá hodnota nepozorovaného parametru s 95% pravděpodobností, se nachází v rozmezí od -3750.04 USD do 9081.92 USD, se střední hodnotou 2717.57. Tzn., že podle našeho modelu má muž - při zohlednění ostatních faktorů a jejich vybraných interakcí - typicky o cca 2700 USD vyšší základní mzdu než její ženský protějšek. Analýza našich dat tak do určité míry podporuje hypotézu o existenci platové diskriminace na základě pohlaví zaměstnance v námi studované firmě. Síla důkazu ve prospěch této hypotézy však není nijak výrazná, což vyplývá z toho, že 95% interval kredibility zahrnuje vedle kladných hodnot i nulovou hodnotu a záporné hodnoty parametru pohlaví jako jeho plauzibilní hodnoty.    "
   ]
  },
  {
   "cell_type": "code",
   "execution_count": null,
   "id": "d01592f8",
   "metadata": {
    "lines_to_next_cell": 2,
    "message": false,
    "tags": [
     "remove_input"
    ],
    "warning": false
   },
   "outputs": [],
   "source": [
    "\n",
    "summary(model)\n"
   ]
  },
  {
   "cell_type": "markdown",
   "id": "a6ce0d36",
   "metadata": {},
   "source": [
    "Pokud bychom chtěli přesněji vyjadřit míru, s níž naše data v rámci našeho modelu favorizují hodnoty parametru pohlaví větší než nula (tj. hodnoty, které jsou v souladu s hypotézou o existenci platové diskriminace na základě pohlaví v neprospěch žen), můžeme se podívat na posteriorní distribuci tohoto parametru a jednoduše na něm spočítat, s jakou pravděpodobností nabývá kladných hodnot. "
   ]
  },
  {
   "cell_type": "code",
   "execution_count": null,
   "id": "58f2a621",
   "metadata": {
    "fig.height": 5,
    "fig.width": 7,
    "lines_to_next_cell": 2,
    "message": false,
    "tags": [
     "remove_input"
    ],
    "warning": false
   },
   "outputs": [],
   "source": [
    "\n",
    "# visualizing posterior distribution of the model's b_genderMale parameter \n",
    "\n",
    "paramViz <- model %>%\n",
    "  tidybayes::gather_draws(\n",
    "    b_genderMale\n",
    "    ) %>%\n",
    "  dplyr::rename(value = .value)\n",
    "\n",
    "dens <- density(paramViz$value)\n",
    "\n",
    "paramViz <- tibble(x = dens$x, y = dens$y)\n",
    "\n",
    "options(repr.plot.width = 12, repr.plot.height = 8)\n",
    "ggplot2::ggplot(\n",
    "  paramViz,\n",
    "  aes(x,y)\n",
    "    ) +\n",
    "  ggplot2::geom_area(\n",
    "    data = filter(paramViz, x > 0),\n",
    "    fill = \"lightblue\"\n",
    "  ) +\n",
    "  ggplot2::geom_area(\n",
    "    data = filter(paramViz, x <= 0),\n",
    "    fill = \"grey\"\n",
    "  ) +\n",
    "  ggplot2::geom_line(\n",
    "  ) +\n",
    "  ggplot2::scale_x_continuous(breaks = seq(-15000, 15000, 5000)) + \n",
    "  ggplot2::labs(\n",
    "    title = \"Posteriorní distribuce parametru pohlaví zaměstnance\",\n",
    "    y = \"Density\",\n",
    "    x = \"genderMale\"\n",
    "    )\n"
   ]
  },
  {
   "cell_type": "code",
   "execution_count": null,
   "id": "f234455c",
   "metadata": {
    "message": false,
    "tags": [
     "remove_input",
     "remove_cell"
    ],
    "warning": false
   },
   "outputs": [],
   "source": [
    "\n",
    "# extracting posterior samples\n",
    "samples <- brms::posterior_samples(model)\n",
    "\n",
    "# probability of b_genderMale coefficient being higher\n",
    "prop <- sum(samples$b_genderMale > 0) / nrow(samples)\n"
   ]
  },
  {
   "cell_type": "markdown",
   "id": "46961ab9",
   "metadata": {},
   "source": [
    "Po provedení tohoto výpočtu nám vychází hodnota `r round(prop*100,1)` %. To je v souladu s předchozím tvrzením, že důkaz ve prospěch testované hypotézy není příliš silný. Další možností by bylo použití tzv. [Bayesova faktoru](https://en.wikipedia.org/wiki/Bayes_factor), který vyjadřuje míru s níž dostupná data favorizují testovanou hypotézu ve srovnání s modelem odpovídajícím nulové hypotéze.  \n",
    "\n",
    "Vedle parametru pohlaví může být pro nás potenciálně užitečné podívat se také na vztah základní mzdy a ostatních prediktorů použitých v našem modelu. Za tímto účelem můžeme použít vizualizaci podmíněných efektů jednotlivých prediktorů, které vyjadřují vztah mezi prediktorem a kritériem při zohlednění vlivu ostatních prediktorů. Takto např. můžeme na jednom z grafů vidět, že vztah mezi úrovní vzdělání a výší základního platu se má tendenci u mužů a žen lišit. Na jiném grafu si můžeme zase všimnout toho, že rozdíl mezi základní mzdou mužů a žen má tendenci narůstat s tím, jak klesá seniorita zaměstnanců. Tyto a další podobné vhledy nám mohou pomoct přiblížit se k důvodům za pozorovanými nerovnostmi v platech mužů a žen.          "
   ]
  },
  {
   "cell_type": "code",
   "execution_count": null,
   "id": "10fab5a5",
   "metadata": {
    "fig.show": "hide",
    "message": false,
    "results": "hidden",
    "tags": [
     "remove_input"
    ],
    "warning": false
   },
   "outputs": [],
   "source": [
    "\n",
    "# plotting conditional effects for each predictor for the model \n",
    "# Conditional and Marginal Relationships: The regression coefficients in generalized linear mixed models represent conditional effects in the sense that they express comparisons holding the cluster-specific random effects (and covariates) constant. For this reason, conditional effects are sometimes referred to as cluster-specific effects. In contrast, marginal effects can be obtained by averaging the conditional expectation μij over the random effects distribution. Marginal effects express comparisons of entire sub-population strata defined by covariate values and are sometimes referred to as population-averaged effects.In linear mixed models (identity link), the regression coefficents can be interpreted as either conditional or marginal effects. However, conditional and marginal effects differ for most other link functions.\n",
    "options(repr.plot.width = 12, repr.plot.height = 8)\n",
    "condEffplots <- plot(\n",
    "  brms::conditional_effects(\n",
    "    model, \n",
    "    effects = c(\"jobTitle\", \"age\", \"perfEval\", \"edu\", \"seniority\", \"gender:edu\", \"gender:seniority\", \"gender:age\", \"gender:perfEval\"),\n",
    "    probs = c(0.025, 0.975), \n",
    "    robust = TRUE),\n",
    "  ask = FALSE\n",
    "  )\n",
    "# margEffplots <- plot(brms::marginal_effects(model), probs = c(0.025, 0.975), robust = TRUE), ask = FALSE)\n"
   ]
  },
  {
   "cell_type": "code",
   "execution_count": null,
   "id": "d53e731c",
   "metadata": {
    "fig.height": 50,
    "tags": [
     "remove_input"
    ]
   },
   "outputs": [],
   "source": [
    "\n",
    "# putting all graphs with conditional effects together  \n",
    "ggpubr::ggarrange(\n",
    "  plotlist = condEffplots, \n",
    "  nrow = 10,\n",
    "  ncol = 1\n",
    ")\n",
    "     "
   ]
  },
  {
   "cell_type": "markdown",
   "id": "7172a087",
   "metadata": {},
   "source": [
    "## Možné další kroky\n",
    "\n",
    "I v situaci, kdy analýza dat nepodpoří naše podezření na existenci platové diskriminace na základě pohlaví zaměstnance, je stále možné, že za pozorovaným rozdílem v platech mužů a žen jsou jiné faktory, které s pohlavím zaměstance nějak souvisí. Např. skutečnost, že jsou ženy méně reprezentované na lépe placených seniornějších pozicích, by mohla svědčit o tom, že se ženy na pracovišti mohou potýkat s genderovými stereotypy a že při snaze o kariérní postup na lépe placené pozice narážejí na tzv. \"skleněný strop“. Pro učinění takového závěru je však zapotřebí získat další data, a to spíše kvalitativní povahy, taková, která sbírá a analyzuje např. [organizační](https://lpsonline.sas.upenn.edu/features/what-organizational-anthropology) či [firemní antropologie](https://www.bu.edu/anthrop/undergraduate/internship-opportunities/business-anthropology/#:~:text=Business%20anthropology%20is%20an%20important%20subfield%20of%20anthropology.&text=In%20short%2C%20business%20anthropology%20is,business%20problems%20in%20everyday%20life.).  \n",
    "\n",
    "V situaci, kdy máme dostatečně silné důkazy pro to, že se za pozorovanou platovou nerovností mezi muži a ženami skrývají faktory související s pohlavím zaměstnance, je možné začít se poohlížet po možných řešeních. Stejně jako při identifikaci problému, i při hledání způsobu jeho řešení je dobré držet se zásad [na důkazech založeného managementu](https://scienceforwork.com/blog/what-is-evidence-based-management/) a volit pouze řešení s dostatečně empiricky doloženou účinností, která zároveň dávají smysl ve specifickém kontextu dané firmy.   \n",
    "\n",
    "Užitečný přehled možných akcí, které zaměstnavatelé mohou podniknout s cílem snížit GPG ve své organizaci, vytvořila známá skupina odborníků na behaviorální vědy v rámci tzv. [The Behavioral Insights Team](https://www.bi.team/), která svého času vznikla pro to, aby britské vládě pomáhala realizovat účinnou politiku založenou na důkazech. V dokumentu s názvem *Reducing the gender pay gap and improving gender equality in organisations: Evidence-based actions for employers* tato skupina odborníků uvádí několik možných intervencí, které řadí do tří kategorií podle toho, jak dobře je jejich účinnost podložená empirickými důkazy.\n",
    "\n",
    "Mezi **akce s dobře doloženou účinností** řadí následující intervence:  \n",
    "\n",
    "* Zahrnutí většího počtu žen do užších seznamů v rámci výběru nových zaměstnanců a povyšování.\n",
    "* Používání úloh posuzujících úroveň pracovních dovedností v rámci výběru nových zaměstnanců.\n",
    "* Používání strukturovaného interview v rámci výběru nových zaměstnanců a povyšování.\n",
    "* Podpora vyjednávání o výši platu pomocí zvěřejnění existujícího platového rozmezí.\n",
    "* Zavedení transparentních procesů povyšování a odměňování. \n",
    "* Jmenování manažera či zřízení pracovní skupiny pro firemní diverzitu.\n",
    "\n",
    "Mezi **potenciálně slibné akce, které ale vyžadují další důkazy o své účinnosti**, řadí následující postupy:  \n",
    "\n",
    "* Zvýšení pracovní flexibility pro muže a pro ženy.\n",
    "* Podporu sdílené rodičovské dovolené.\n",
    "* Nábor bývalých zaměstnanců, kteří museli z různých osobních důvodů na delší dobu přerušit svou kariéru.  \n",
    "* Nabídku mentoringu and sponsorshipu.\n",
    "* Nabídku networkingových programů.\n",
    "* Nastavení interních cílů.\n",
    "\n",
    "A mezi **akce se smíšenými doklady o jejich účinnosti** potom řadí následující opatření:  \n",
    "\n",
    "* Školení věnované tématu nevědomých předsudků.\n",
    "* Školení v oblasti diverzity.\n",
    "* Školení věnované rozvoji leadershipu.\n",
    "* Demograficky různorodé výběrové panely v rámci externího i interního náboru."
   ]
  }
 ],
 "metadata": {
  "jupytext": {
   "cell_metadata_filter": "message,results,tags,fig.show,fig.width,echo,warning,fig.height,-all",
   "main_language": "R",
   "notebook_metadata_filter": "-all"
  },
  "kernelspec": {
   "display_name": "R",
   "language": "R",
   "name": "ir"
  },
  "language_info": {
   "codemirror_mode": "r",
   "file_extension": ".r",
   "mimetype": "text/x-r-source",
   "name": "R",
   "pygments_lexer": "r",
   "version": "4.0.4"
  }
 },
 "nbformat": 4,
 "nbformat_minor": 5
}
